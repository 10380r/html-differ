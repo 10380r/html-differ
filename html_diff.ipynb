{
 "cells": [
  {
   "cell_type": "code",
   "execution_count": 38,
   "metadata": {},
   "outputs": [],
   "source": [
    "import urllib.request\n",
    "from bs4 import BeautifulSoup\n",
    "import datetime\n",
    "import codecs\n",
    "\n",
    "#指定するURL\n",
    "url = \"https://www.cinemanavi.com/ranking_list/type/favorite/%E6%98%A0%E7%94%BB%E3%83%A9%E3%83%B3%E3%82%AD%E3%83%B3%E3%82%B0.html\"\n",
    "\n",
    "# URLからHTTPレスポンスを取得\n",
    "html = urllib.request.urlopen(url)\n",
    "rank = BeautifulSoup(html, \"html.parser\")\n",
    "\n",
    "#今日の日付の取得\n",
    "today = datetime.date.today()\n",
    "\n",
    "#ファイル名の指定\n",
    "file_name = 'C:\\\\Users\\YUSUKE\\Downloads\\{}.html'.format(str(today))\n",
    "\n",
    "#ファイルをつくる\n",
    "file = codecs.open(file_name,\"ab\",'cp932', 'ignore')\n",
    "file.write(rank)\n",
    "file.close()"
   ]
  },
  {
   "cell_type": "code",
   "execution_count": null,
   "metadata": {},
   "outputs": [],
   "source": []
  }
 ],
 "metadata": {
  "kernelspec": {
   "display_name": "Python 3",
   "language": "python",
   "name": "python3"
  },
  "language_info": {
   "codemirror_mode": {
    "name": "ipython",
    "version": 3
   },
   "file_extension": ".py",
   "mimetype": "text/x-python",
   "name": "python",
   "nbconvert_exporter": "python",
   "pygments_lexer": "ipython3",
   "version": "3.7.0"
  }
 },
 "nbformat": 4,
 "nbformat_minor": 2
}
